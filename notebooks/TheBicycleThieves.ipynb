{
 "cells": [
  {
   "cell_type": "code",
   "execution_count": null,
   "metadata": {},
   "outputs": [],
   "source": [
    "import glob\n",
    "import numpy as np\n",
    "import pandas as pd\n",
    "import re\n",
    "\n",
    "pattern = re.compile(r'(\\d{4}\\-\\d{2})\\-([-a-z]*)\\-street\\.csv$')\n",
    "dataFiles = glob.glob('../data/**/*.csv', recursive=True)\n",
    "dates, forces = set(), set()\n",
    "dataColumns =  {}"
   ]
  },
  {
   "cell_type": "code",
   "execution_count": null,
   "metadata": {},
   "outputs": [],
   "source": [
    "# Function to calculate month offset\n",
    "\n",
    "def month_Offset(start, target):\n",
    "    startYear, startMonth   = [int(x) for x in start.split('-')]\n",
    "    targetYear, targetMonth = [int(x) for x in target.split('-')]\n",
    "    \n",
    "    return (targetYear - startYear) * 12 + targetMonth - startMonth"
   ]
  },
  {
   "cell_type": "code",
   "execution_count": null,
   "metadata": {},
   "outputs": [],
   "source": [
    "def incrementDateByMonth(yearMonthStr):\n",
    "    year, month = [int(x) for x in yearMonthStr.split('-')]\n",
    "    \n",
    "    if year < 1000:\n",
    "        raise ValueError('Year out of bounds')\n",
    "    month += 1\n",
    "    if month > 12:\n",
    "        month = 1\n",
    "        year += 1\n",
    "    return f'{year}-{month}'\n",
    "        "
   ]
  },
  {
   "cell_type": "code",
   "execution_count": null,
   "metadata": {},
   "outputs": [],
   "source": [
    "# prepare to accept data\n",
    "for name in dataFiles:\n",
    "    results = re.findall(pattern, name)\n",
    "    date, force = results[0][0], results[0][1]\n",
    "    dates.add(date)\n",
    "    forces.add(force)\n",
    "\n",
    "startDate = min(dates)\n",
    "forces = sorted(forces)\n",
    "\n",
    "for force in forces:\n",
    "    dataColumns[force] = [np.NaN] * len(dates)"
   ]
  },
  {
   "cell_type": "code",
   "execution_count": null,
   "metadata": {},
   "outputs": [],
   "source": [
    "# load in data from all of the files\n",
    "\n",
    "for file in dataFiles:\n",
    "    df = pd.read_csv(file, usecols=['Crime type'])\n",
    "    \n",
    "    results = re.findall(pattern, file)\n",
    "    date, force = results[0][0], results[0][1]\n",
    "    bikeThefts = df.groupby(['Crime type']).size()['Bicycle theft']\n",
    "\n",
    "    dataColumns[force][month_Offset(startDate, date)] = bikeThefts"
   ]
  },
  {
   "cell_type": "markdown",
   "metadata": {},
   "source": [
    "Using the 'usecols' option in read_csv cut down processing time of csv files by half, it would be good to use Dask to parallelise the processing."
   ]
  },
  {
   "cell_type": "code",
   "execution_count": null,
   "metadata": {},
   "outputs": [],
   "source": [
    "# Create DataFrame\n",
    "\n",
    "bikeTheftsFrame = pd.DataFrame.from_dict(dataColumns)\n",
    "endDate = incrementDateByMonth(max(dates))\n",
    "bikeTheftsFrame.index = pd.date_range(startDate, endDate, freq='M')"
   ]
  },
  {
   "cell_type": "code",
   "execution_count": null,
   "metadata": {},
   "outputs": [],
   "source": [
    "bikeTheftsFrame"
   ]
  },
  {
   "cell_type": "markdown",
   "metadata": {},
   "source": [
    "The dataframe of the bike theft data for each force for each month, this allows any issues to be found before totalling up the values."
   ]
  },
  {
   "cell_type": "code",
   "execution_count": null,
   "metadata": {},
   "outputs": [],
   "source": [
    "bikeTheftsFrame.info()"
   ]
  },
  {
   "cell_type": "code",
   "execution_count": null,
   "metadata": {},
   "outputs": [],
   "source": [
    "from matplotlib.colors import LogNorm\n",
    "import seaborn as sns\n",
    "%matplotlib inline\n",
    "\n",
    "sns.set(rc={'figure.figsize':(20,18)})\n",
    "logNorm = LogNorm(vmin=bikeTheftsFrame.min().min(), vmax=bikeTheftsFrame.max().max())\n",
    "\n",
    "sns.heatmap(bikeTheftsFrame, norm=logNorm)"
   ]
  },
  {
   "cell_type": "markdown",
   "metadata": {},
   "source": [
    "This shows the the log of bike theft data for each of the forces for each month, the logs allow one better insight into how the data varies.\n",
    "\n",
    "There are four grey spots for the three forces which show NaN, since I set the default value to NaN so it would be more apparent."
   ]
  },
  {
   "cell_type": "code",
   "execution_count": null,
   "metadata": {},
   "outputs": [],
   "source": [
    "from sklearn.impute import SimpleImputer\n",
    "\n",
    "fill_NaN = SimpleImputer(missing_values=np.nan, strategy='mean')\n",
    "bikeTheftsFrame_clean = pd.DataFrame(fill_NaN.fit_transform(bikeTheftsFrame))\n",
    "bikeTheftsFrame_clean.columns = bikeTheftsFrame.columns\n",
    "bikeTheftsFrame_clean.index = bikeTheftsFrame.index\n",
    "bikeTheftsFrame_clean = bikeTheftsFrame_clean.astype(int)\n",
    "\n",
    "bikeTheftsFrame_clean.loc[:,'Total'] = bikeTheftsFrame_clean.sum(axis=1)"
   ]
  },
  {
   "cell_type": "code",
   "execution_count": null,
   "metadata": {},
   "outputs": [],
   "source": [
    "\n",
    "sns.set(rc={'figure.figsize':(20,18)})\n",
    "logNorm = LogNorm(vmin=bikeTheftsFrame.min().min(), vmax=bikeTheftsFrame.max().max())\n",
    "\n",
    "sns.heatmap(bikeTheftsFrame_clean, norm=logNorm)"
   ]
  },
  {
   "cell_type": "markdown",
   "metadata": {},
   "source": [
    "The NaNs have been removed with by using a column average, this is better than zero, and better than removing the three columns, however it is artificial data very roughly inferred from the surrounding dataset, and with no regard to the seasonal context of the missing datapoints.\n",
    "\n",
    "**Note however that the number of bike thefts appear to dip over winter each year.**"
   ]
  },
  {
   "cell_type": "code",
   "execution_count": null,
   "metadata": {},
   "outputs": [],
   "source": [
    "bikeTheftsFrame_clean.info()"
   ]
  },
  {
   "cell_type": "code",
   "execution_count": null,
   "metadata": {},
   "outputs": [],
   "source": [
    "insuranceFrame = pd.DataFrame(bikeTheftsFrame_clean.Total)"
   ]
  },
  {
   "cell_type": "markdown",
   "metadata": {},
   "source": [
    "Based on the provided dataset. Generate a month on month simplified bicycle insurance price graph.\n",
    "\n",
    "Base the prices on the number of bicylce related crimes that happen each month.\n",
    "Each crime accounts for a £1 increase in the price.\n",
    "\n",
    "The price is cumulative so, if last month's price is £3, and there are two incidents per month,\n",
    "the price would go up £2 per as follows: £3, £5, £7\n",
    "\n",
    "For any month when the number of incidents is half of less than the number of incidents in the previous month,\n",
    "the price goes down £1\n",
    "\n",
    "\n",
    "*I am assuming the starting price is the previous month's 'Total'?*\n",
    "*The price decrease of £1 does seem very small considering the how high the insurance price has risen to*"
   ]
  },
  {
   "cell_type": "code",
   "execution_count": null,
   "metadata": {},
   "outputs": [],
   "source": [
    "def CalculateInsurancePrice(df):\n",
    "    price = df.Total[0]\n",
    "    df['InsurancePrice'] = 0\n",
    "    \n",
    "    for index in range(1, len(df)):\n",
    "        thisMonth = df.Total[index]\n",
    "        lastMonth = df.Total[index - 1]\n",
    "\n",
    "        if thisMonth > lastMonth:\n",
    "            price += thisMonth\n",
    "        elif thisMonth <= lastMonth/2:\n",
    "            price -= 1\n",
    "        \n",
    "        df.InsurancePrice[index] = price\n",
    "        \n",
    "CalculateInsurancePrice(insuranceFrame)\n",
    "     "
   ]
  },
  {
   "cell_type": "code",
   "execution_count": null,
   "metadata": {},
   "outputs": [],
   "source": [
    "insuranceFrame"
   ]
  },
  {
   "cell_type": "code",
   "execution_count": null,
   "metadata": {},
   "outputs": [],
   "source": [
    "%matplotlib inline\n",
    "\n",
    "import matplotlib.pyplot as plt\n",
    "from pandas.plotting import register_matplotlib_converters\n",
    "register_matplotlib_converters()\n",
    "\n",
    "plt.rcParams['figure.figsize'] = (10,8)\n",
    "plt.plot(insuranceFrame.InsurancePrice)\n",
    "plt.title('Bicycle theft insurance')\n",
    "plt.xlabel('Date')\n",
    "plt.xticks(rotation=70)\n",
    "plt.ylabel('Price of bicycle insurance (£)')\n",
    "\n",
    "#plt.show()\n",
    "plt.savefig('../figures/BicycleInsurancePrice.png')"
   ]
  },
  {
   "cell_type": "code",
   "execution_count": null,
   "metadata": {},
   "outputs": [],
   "source": []
  }
 ],
 "metadata": {
  "kernelspec": {
   "display_name": "Python 3",
   "language": "python",
   "name": "python3"
  },
  "language_info": {
   "codemirror_mode": {
    "name": "ipython",
    "version": 3
   },
   "file_extension": ".py",
   "mimetype": "text/x-python",
   "name": "python",
   "nbconvert_exporter": "python",
   "pygments_lexer": "ipython3",
   "version": "3.6.8"
  }
 },
 "nbformat": 4,
 "nbformat_minor": 2
}
